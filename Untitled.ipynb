{
 "cells": [
  {
   "cell_type": "code",
   "execution_count": 55,
   "id": "c9802c96",
   "metadata": {},
   "outputs": [],
   "source": [
    "import requests\n",
    "import json"
   ]
  },
  {
   "cell_type": "markdown",
   "id": "2f264611",
   "metadata": {},
   "source": [
    "# Config Meta App"
   ]
  },
  {
   "cell_type": "code",
   "execution_count": 56,
   "id": "9b7f7bc5",
   "metadata": {},
   "outputs": [],
   "source": [
    "fig_user_id = \"17841471817020200\"\n",
    "fapp_id = \"1322249575759060\"\n",
    "fapp_secret = \"3db484c9c756e21cde7501c215658004\"\n",
    "fuser_access_token = \"EAASylDhEfNQBO9ZAdMpD0RZCnZCnFZAVbMdM5tS0hrNuSwPJDpsiNzODgxKl8Y7wJFs9uAEecUtX6reZBh69J4Fc1Lu0nrn1TQwJ0KGxO1Rs46kuixjkWkUZCW5cnr50CDAdVQtYXsJjoZBVUZAgoM8paYFjol3WRM3pNpcN6GtGo3qGSXqhovgmVapbTwZDZD\""
   ]
  },
  {
   "cell_type": "markdown",
   "id": "bc18b008",
   "metadata": {},
   "source": [
    "https://graph.facebook.com/v17.0/oauth/access_token\n",
    "?grant_type=fb_exchange_token\n",
    "&client_id{app_id}\n",
    "&client_secret={app_secret}\n",
    "&fb_exchange_token={user_access_token}"
   ]
  },
  {
   "cell_type": "markdown",
   "id": "88f1e465",
   "metadata": {},
   "source": [
    "# Long Access Token"
   ]
  },
  {
   "cell_type": "code",
   "execution_count": 57,
   "id": "c8ff4cf8",
   "metadata": {},
   "outputs": [
    {
     "name": "stdout",
     "output_type": "stream",
     "text": [
      "Long-lived Access Token: EAASylDhEfNQBO3jFXKKoStZAPMbrBYeILxoZCCD28FZCcN2LY8juR93r2Qw6yZCGUjqYj3NKZB8ZBHI7QMrhhcMGZCHYeqWHZBeC8mJQIG0EQvneZBFqbZBGsgxkDHkjpjwZBOOtVCnZBdQsFbAhcnwxfUMSXrb827XXdYS3yFEcOI0jZB34hIIoxXehsvCVY\n"
     ]
    }
   ],
   "source": [
    "url = (\n",
    "    f\"https://graph.facebook.com/v17.0/oauth/access_token\"\n",
    "    f\"?grant_type=fb_exchange_token\"\n",
    "    f\"&client_id={app_id}\"\n",
    "    f\"&client_secret={app_secret}\"\n",
    "    f\"&fb_exchange_token={user_access_token}\"\n",
    ")\n",
    "\n",
    "# Make the request\n",
    "response = requests.get(url)\n",
    "\n",
    "# Parse and retrieve the long-lived access token\n",
    "if response.status_code == 200:\n",
    "    long_access_token = response.json().get(\"access_token\")\n",
    "    print(\"Long-lived Access Token:\", long_access_token)\n",
    "else:\n",
    "    print(\"Error:\", response.json())"
   ]
  },
  {
   "cell_type": "markdown",
   "id": "89473263",
   "metadata": {},
   "source": [
    "# Test API"
   ]
  },
  {
   "cell_type": "markdown",
   "id": "f0b66238",
   "metadata": {},
   "source": [
    "\"https://graph.facebook.com/v22.0/17841405309211844 \\\n",
    "  ?fields=business_discovery.username(bluebottle){followers_count,media_count} \\\n",
    "  &access_token=<YOUR_APP_USERS_INSTAGRAM_USER_ACCESS_TOKEN>\""
   ]
  },
  {
   "cell_type": "code",
   "execution_count": 58,
   "id": "b00809c8",
   "metadata": {
    "scrolled": true
   },
   "outputs": [
    {
     "name": "stdout",
     "output_type": "stream",
     "text": [
      "Followers Count: 61907\n",
      "Media Count: 690\n"
     ]
    }
   ],
   "source": [
    "import requests\n",
    "\n",
    "# long_access_token\n",
    "# ig_user_id\n",
    "USERNAME = \"words_by_mk\"  \n",
    "\n",
    "\n",
    "url = f\"https://graph.facebook.com/v22.0/{ig_user_id}\"\n",
    "params = {\n",
    "    \"fields\": f\"business_discovery.username({USERNAME}){{followers_count,media_count}}\",\n",
    "    \"access_token\": long_access_token\n",
    "}\n",
    "\n",
    "response = requests.get(url, params=params)\n",
    "\n",
    "if response.status_code == 200:\n",
    "    data = response.json().get(\"business_discovery\", {})\n",
    "    print(f\"Followers Count: {data.get('followers_count', 'N/A')}\")\n",
    "    print(f\"Media Count: {data.get('media_count', 'N/A')}\")\n",
    "else:\n",
    "    print(\"Error:\", response.json())\n"
   ]
  },
  {
   "cell_type": "code",
   "execution_count": null,
   "id": "78b87cfe",
   "metadata": {},
   "outputs": [],
   "source": []
  },
  {
   "cell_type": "code",
   "execution_count": null,
   "id": "b05becd2",
   "metadata": {},
   "outputs": [],
   "source": []
  },
  {
   "cell_type": "markdown",
   "id": "1c80d2f8",
   "metadata": {},
   "source": [
    "# instagram Config"
   ]
  },
  {
   "cell_type": "code",
   "execution_count": 26,
   "id": "057a004e",
   "metadata": {},
   "outputs": [],
   "source": [
    "app_id = \"1344974833521201\"\n",
    "secret_id = \"2d0d995348c155121d17a10282e3aedf\"\n",
    "redirect_app = \"https://a658-103-72-75-85.ngrok-free.app/\""
   ]
  },
  {
   "cell_type": "markdown",
   "id": "ea16bce3",
   "metadata": {},
   "source": [
    "https://www.instagram.com/oauth/authorize\n",
    "  ?client_id=990602627938098\n",
    "  &redirect_uri=https://my.m.redirect.net/\n",
    "  &response_type=code\n",
    "  &scope=\n",
    "    instagram_business_basic,\n",
    "    instagram_business_manage_messages,\n",
    "    instagram_business_manage_comments,\n",
    "    instagram_business_content_publish"
   ]
  },
  {
   "cell_type": "code",
   "execution_count": 27,
   "id": "b889a207",
   "metadata": {},
   "outputs": [],
   "source": [
    "url = f\"https://www.instagram.com/oauth/authorize?client_id={app_id}&redirect_uri={redirect_app}&response_type=code&scope=instagram_business_basic,instagram_business_manage_messages,instagram_business_manage_comments,instagram_business_content_publish\""
   ]
  },
  {
   "cell_type": "code",
   "execution_count": 28,
   "id": "7590edc5",
   "metadata": {},
   "outputs": [
    {
     "data": {
      "text/plain": [
       "'https://www.instagram.com/oauth/authorize?client_id=1344974833521201&redirect_uri=https://a658-103-72-75-85.ngrok-free.app/&response_type=code&scope=instagram_business_basic,instagram_business_manage_messages,instagram_business_manage_comments,instagram_business_content_publish'"
      ]
     },
     "execution_count": 28,
     "metadata": {},
     "output_type": "execute_result"
    }
   ],
   "source": [
    "url"
   ]
  },
  {
   "cell_type": "code",
   "execution_count": null,
   "id": "2d03ee22",
   "metadata": {},
   "outputs": [],
   "source": []
  },
  {
   "cell_type": "code",
   "execution_count": 61,
   "id": "be7af5b5",
   "metadata": {},
   "outputs": [
    {
     "name": "stdout",
     "output_type": "stream",
     "text": [
      "URL opened in your browser: True\n"
     ]
    }
   ],
   "source": [
    "import webbrowser\n",
    "\n",
    "# Credentials and redirect URL\n",
    "app_id = \"1344974833521201\"\n",
    "secret_id = \"2d0d995348c155121d17a10282e3aedf\"\n",
    "redirect_app = \"https://a658-103-72-75-85.ngrok-free.app/\"\n",
    "\n",
    "# Generate the URL\n",
    "url = f\"https://www.instagram.com/oauth/authorize?client_id={app_id}&redirect_uri={redirect_app}&response_type=code&scope=instagram_business_basic,instagram_business_manage_messages,instagram_business_manage_comments,instagram_business_content_publish\"\n",
    "\n",
    "# Open the URL in the default web browser\n",
    "url = webbrowser.open(url)\n",
    "\n",
    "print(f\"URL opened in your browser: {url}\")\n"
   ]
  },
  {
   "cell_type": "markdown",
   "id": "fc0bed0b",
   "metadata": {},
   "source": [
    "#  path url form browser and get authorization token"
   ]
  },
  {
   "cell_type": "code",
   "execution_count": null,
   "id": "a63eed90",
   "metadata": {},
   "outputs": [],
   "source": []
  },
  {
   "cell_type": "markdown",
   "id": "7cbe930c",
   "metadata": {},
   "source": [
    "https://a658-103-72-75-85.ngrok-free.app/?code=AQB1SQ_aQ-OsXoV0qHdEoFmrqULPn9LlwdnRsKgXNsXlLuGCXI5Y0vwl5_flDVN0u2grgZQHFTL8PA9RRnXPwhLAflAOns-ffDoRxGszcKDy1unMpFV8OR1bWqusipln1qFsQH-1qhqsvz6LHxrW46IiiqWhm36cISJeYPoHZMkzo8f_sVsBt73T2_AHF6tfOinBmtwKSbj_JdacVX5WibFSk_FVCvE2eWBx4NhAs82F7g#_\n",
    "\n",
    "https://a658-103-72-75-85.ngrok-free.app/?code=AQB1SQ_aQ-OsXoV0qHdEoFmrqULPn9LlwdnRsKgXNsXlLuGCXI5Y0vwl5_flDVN0u2grgZQHFTL8PA9RRnXPwhLAflAOns-ffDoRxGszcKDy1unMpFV8OR1bWqusipln1qFsQH-1qhqsvz6LHxrW46IiiqWhm36cISJeYPoHZMkzo8f_sVsBt73T2_AHF6tfOinBmtwKSbj_JdacVX5WibFSk_FVCvE2eWBx4NhAs82F7g#_"
   ]
  },
  {
   "cell_type": "code",
   "execution_count": 29,
   "id": "cae63754",
   "metadata": {},
   "outputs": [
    {
     "name": "stdout",
     "output_type": "stream",
     "text": [
      "AQB1SQ_aQ-OsXoV0qHdEoFmrqULPn9LlwdnRsKgXNsXlLuGCXI5Y0vwl5_flDVN0u2grgZQHFTL8PA9RRnXPwhLAflAOns-ffDoRxGszcKDy1unMpFV8OR1bWqusipln1qFsQH-1qhqsvz6LHxrW46IiiqWhm36cISJeYPoHZMkzo8f_sVsBt73T2_AHF6tfOinBmtwKSbj_JdacVX5WibFSk_FVCvE2eWBx4NhAs82F7g\n"
     ]
    }
   ],
   "source": [
    "redirect_url = \"https://a658-103-72-75-85.ngrok-free.app/?code=AQB1SQ_aQ-OsXoV0qHdEoFmrqULPn9LlwdnRsKgXNsXlLuGCXI5Y0vwl5_flDVN0u2grgZQHFTL8PA9RRnXPwhLAflAOns-ffDoRxGszcKDy1unMpFV8OR1bWqusipln1qFsQH-1qhqsvz6LHxrW46IiiqWhm36cISJeYPoHZMkzo8f_sVsBt73T2_AHF6tfOinBmtwKSbj_JdacVX5WibFSk_FVCvE2eWBx4NhAs82F7g#_\"\n",
    "\n",
    "authorization_token = redirect_url.split(\"?code=\")[1].split(\"#\")[0]\n",
    "print(authorization_token)"
   ]
  },
  {
   "cell_type": "markdown",
   "id": "e68a9451",
   "metadata": {},
   "source": [
    "curl -X POST https://api.instagram.com/oauth/access_token \\\n",
    "  -F 'client_id=990602627938098' \\\n",
    "  -F 'client_secret=a1b2C3D4' \\\n",
    "  -F 'grant_type=authorization_code' \\\n",
    "  -F 'redirect_uri=https://my.m.redirect.net/' \\\n",
    "  -F 'code=AQBx-hBsH3...'"
   ]
  },
  {
   "cell_type": "code",
   "execution_count": 30,
   "id": "6e4eb133",
   "metadata": {},
   "outputs": [
    {
     "name": "stdout",
     "output_type": "stream",
     "text": [
      "Access Token: IGAATHP1svEjFBZAE5JN05ndE1uZAk0tMjVwSVhLYVRnanppTFpNdHZAQTHFPbjE3RGFMN3R4ajByTVdZAQ2lXVmt4ZAkUySWtZAaGNBNjllMTd0YlY1UFJwdkdGbGRnakFicXNwZAlRzeXlxd0plcmV4MUxzVUlnaWo0Yk9iWU9fYl82TXoyQjRkR2FjZAldB\n"
     ]
    }
   ],
   "source": [
    "url = \"https://api.instagram.com/oauth/access_token\"\n",
    "\n",
    "# Payload for the POST request\n",
    "payload = {\n",
    "    'client_id': app_id,\n",
    "    'client_secret': secret_id,\n",
    "    'grant_type': 'authorization_code',\n",
    "    'redirect_uri': redirect_app,\n",
    "    'code': authorization_token\n",
    "}\n",
    "\n",
    "# Send POST request\n",
    "response = requests.post(url, data=payload)\n",
    "\n",
    "# Check response status and handle accordingly\n",
    "if response.status_code == 200:\n",
    "    data = response.json()\n",
    "    access_token = data.get(\"access_token\")\n",
    "    print(f\"Access Token: {access_token}\")\n",
    "else:\n",
    "    print(f\"Error: {response.status_code}, {response.json()}\")"
   ]
  },
  {
   "cell_type": "markdown",
   "id": "0153cdc9",
   "metadata": {},
   "source": [
    "# Long access Token"
   ]
  },
  {
   "cell_type": "code",
   "execution_count": 43,
   "id": "dfda0be4",
   "metadata": {},
   "outputs": [
    {
     "name": "stdout",
     "output_type": "stream",
     "text": [
      "Your long token is: IGAAT...\n"
     ]
    }
   ],
   "source": [
    "url = \"https://graph.instagram.com/access_token\"\n",
    "payload = {\n",
    "    \"grant_type\": \"ig_exchange_token\",\n",
    "    \"client_secret\": secret_id,\n",
    "    \"access_token\": access_token\n",
    "}\n",
    "response = requests.get(url, params=payload)\n",
    "data = response.json()\n",
    "\n",
    "long_access_token = data.get(\"access_token\", None)\n",
    "if long_access_token:\n",
    "    print(\"Your long token is: \" + long_access_token[:5] + \"...\")\n",
    "else:\n",
    "    print(\"Error: \", data)"
   ]
  },
  {
   "cell_type": "code",
   "execution_count": 44,
   "id": "56bbe50e",
   "metadata": {},
   "outputs": [],
   "source": [
    "url = \"https://graph.instagram.com/v21.0/me\"\n",
    "payload = {\n",
    "    \"fields\": \"id,username,name,account_type,profile_picture_url,followers_count,follows_count,media_count\",\n",
    "    \"access_token\": long_access_token}\n",
    "response = requests.get(url, params=payload)\n",
    "data = response.json()"
   ]
  },
  {
   "cell_type": "code",
   "execution_count": 45,
   "id": "3964dd4a",
   "metadata": {},
   "outputs": [
    {
     "name": "stdout",
     "output_type": "stream",
     "text": [
      "User Information:\n",
      "ID: 9053167078051733\n",
      "Username: shyamkumariq\n",
      "Name: gaming creators\n",
      "Account Type: BUSINESS\n",
      "Profile Picture URL: https://scontent.cdninstagram.com/v/t51.2885-19/474757057_1095195508970205_3622914150623036616_n.jpg?stp=dst-jpg_s206x206_tt6&_nc_cat=100&ccb=1-7&_nc_sid=bf7eb4&_nc_ohc=9-mzML85pCoQ7kNvgFw19A9&_nc_zt=24&_nc_ht=scontent.cdninstagram.com&edm=AP4hL3IEAAAA&oh=00_AYAmAjm_Td0VzWcivMvzBZGvAGON9q6RE8nefJDXSojxZQ&oe=6799C7BD\n",
      "Followers Count: 0\n",
      "Follows Count: 3\n",
      "Media Count: 2\n"
     ]
    }
   ],
   "source": [
    "if response.status_code == 200:\n",
    "    data = response.json()\n",
    "    print(\"User Information:\")\n",
    "    print(f\"ID: {data.get('id')}\")\n",
    "    print(f\"Username: {data.get('username')}\")\n",
    "    print(f\"Name: {data.get('name')}\")\n",
    "    print(f\"Account Type: {data.get('account_type')}\")\n",
    "    print(f\"Profile Picture URL: {data.get('profile_picture_url')}\")\n",
    "    print(f\"Followers Count: {data.get('followers_count')}\")\n",
    "    print(f\"Follows Count: {data.get('follows_count')}\")\n",
    "    print(f\"Media Count: {data.get('media_count')}\")\n",
    "else:\n",
    "    print(f\"Error: {response.status_code}\")\n",
    "    print(response.json())"
   ]
  },
  {
   "cell_type": "code",
   "execution_count": 50,
   "id": "861d73bd",
   "metadata": {},
   "outputs": [
    {
     "name": "stdout",
     "output_type": "stream",
     "text": [
      "Data saved to config.json\n"
     ]
    }
   ],
   "source": [
    "import json\n",
    "\n",
    "# Data to be saved in JSON format\n",
    "data = {\n",
    "    \"ig_user_id\": \"17841471817020200\",\n",
    "    \"fapp_id\": \"1322249575759060\",\n",
    "    \"fapp_secret\": \"3db484c9c756e21cde7501c215658004\",\n",
    "    \"long_access_token\": \"EAASylDhEfNQBO2TmRHfc1qNrxas669Sr2h5IKnveTmFLjL1UZAbzd4QsipNdYCuhLIKtPrcq7ZB9xdW5rqQRkeBVroZAYkbuyDF0IVTLsARVzRrgcpwdZCmZBXZAYXYhG6mjhWytcvOZCNwUraKFISj2i2nZC80XBdxMWHiCZAtwKYz9CTxr7TLGDlzQy\"\n",
    "}\n",
    "\n",
    "# Save the data to a JSON file\n",
    "with open('config.json', 'w') as json_file:\n",
    "    json.dump(data, json_file, indent=4)\n",
    "\n",
    "print(\"Data saved to config.json\")"
   ]
  },
  {
   "cell_type": "code",
   "execution_count": 52,
   "id": "1fd8d578",
   "metadata": {},
   "outputs": [
    {
     "name": "stdout",
     "output_type": "stream",
     "text": [
      "Data read from config.json:\n",
      "{'ig_user_id': '17841471817020200', 'fapp_id': '1322249575759060', 'fapp_secret': '3db484c9c756e21cde7501c215658004', 'long_access_token': 'EAASylDhEfNQBO2TmRHfc1qNrxas669Sr2h5IKnveTmFLjL1UZAbzd4QsipNdYCuhLIKtPrcq7ZB9xdW5rqQRkeBVroZAYkbuyDF0IVTLsARVzRrgcpwdZCmZBXZAYXYhG6mjhWytcvOZCNwUraKFISj2i2nZC80XBdxMWHiCZAtwKYz9CTxr7TLGDlzQy'}\n"
     ]
    }
   ],
   "source": [
    "# Read the data from the JSON file\n",
    "with open('config.json', 'r') as json_file:\n",
    "    config_data = json.load(json_file)\n",
    "\n",
    "print(\"Data read from config.json:\")\n",
    "print(config_data)\n"
   ]
  },
  {
   "cell_type": "code",
   "execution_count": 53,
   "id": "fb0a67d5",
   "metadata": {},
   "outputs": [],
   "source": [
    "ig_user_id = config_data.get(\"ig_user_id\", \"N/A\")\n",
    "fapp_id = config_data.get(\"fapp_id\", \"N/A\")\n",
    "fapp_secret = config_data.get(\"fapp_secret\", \"N/A\")\n",
    "long_access_token = config_data.get(\"long_access_token\", \"N/A\")"
   ]
  },
  {
   "cell_type": "code",
   "execution_count": 54,
   "id": "570798a8",
   "metadata": {},
   "outputs": [
    {
     "name": "stdout",
     "output_type": "stream",
     "text": [
      "Instagram User ID: 17841471817020200\n",
      "Facebook App ID: 1322249575759060\n",
      "Facebook App Secret: 3db484c9c756e21cde7501c215658004\n",
      "Long Access Token: EAASylDhEfNQBO2TmRHfc1qNrxas669Sr2h5IKnveTmFLjL1UZAbzd4QsipNdYCuhLIKtPrcq7ZB9xdW5rqQRkeBVroZAYkbuyDF0IVTLsARVzRrgcpwdZCmZBXZAYXYhG6mjhWytcvOZCNwUraKFISj2i2nZC80XBdxMWHiCZAtwKYz9CTxr7TLGDlzQy\n"
     ]
    }
   ],
   "source": [
    "print(f\"Instagram User ID: {ig_user_id}\")\n",
    "print(f\"Facebook App ID: {fapp_id}\")\n",
    "print(f\"Facebook App Secret: {fapp_secret}\")\n",
    "print(f\"Long Access Token: {long_access_token}\")"
   ]
  },
  {
   "cell_type": "code",
   "execution_count": null,
   "id": "fa94c245",
   "metadata": {},
   "outputs": [],
   "source": []
  },
  {
   "cell_type": "code",
   "execution_count": null,
   "id": "4bd51d27",
   "metadata": {},
   "outputs": [],
   "source": []
  },
  {
   "cell_type": "code",
   "execution_count": null,
   "id": "a895cffe",
   "metadata": {},
   "outputs": [],
   "source": []
  },
  {
   "cell_type": "code",
   "execution_count": null,
   "id": "64ea652c",
   "metadata": {},
   "outputs": [],
   "source": []
  },
  {
   "cell_type": "code",
   "execution_count": null,
   "id": "2d95878a",
   "metadata": {},
   "outputs": [],
   "source": []
  },
  {
   "cell_type": "code",
   "execution_count": null,
   "id": "b8f7f73b",
   "metadata": {},
   "outputs": [],
   "source": []
  }
 ],
 "metadata": {
  "kernelspec": {
   "display_name": "Python 3 (ipykernel)",
   "language": "python",
   "name": "python3"
  },
  "language_info": {
   "codemirror_mode": {
    "name": "ipython",
    "version": 3
   },
   "file_extension": ".py",
   "mimetype": "text/x-python",
   "name": "python",
   "nbconvert_exporter": "python",
   "pygments_lexer": "ipython3",
   "version": "3.10.6"
  }
 },
 "nbformat": 4,
 "nbformat_minor": 5
}
